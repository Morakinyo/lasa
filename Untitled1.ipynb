{
 "cells": [
  {
   "cell_type": "code",
   "execution_count": 17,
   "id": "5278bb09-8270-462c-84c0-bb44ea7e3313",
   "metadata": {},
   "outputs": [],
   "source": [
    "import pandas as pd\n",
    "import re"
   ]
  },
  {
   "cell_type": "code",
   "execution_count": 19,
   "id": "f46a7ea3-b2ef-44cb-bc8e-c14dc3916803",
   "metadata": {},
   "outputs": [],
   "source": [
    "filename = pd.read_excel('cleanimage.xlsx')"
   ]
  },
  {
   "cell_type": "code",
   "execution_count": 21,
   "id": "218ddbba-6f0a-4d8e-949b-3f0c5aa0acfe",
   "metadata": {},
   "outputs": [
    {
     "name": "stdout",
     "output_type": "stream",
     "text": [
      "<class 'pandas.core.frame.DataFrame'>\n",
      "RangeIndex: 298 entries, 0 to 297\n",
      "Data columns (total 2 columns):\n",
      " #   Column    Non-Null Count  Dtype \n",
      "---  ------    --------------  ----- \n",
      " 0   S/N       298 non-null    int64 \n",
      " 1   filename  298 non-null    object\n",
      "dtypes: int64(1), object(1)\n",
      "memory usage: 4.8+ KB\n"
     ]
    }
   ],
   "source": [
    "filename.info()"
   ]
  },
  {
   "cell_type": "code",
   "execution_count": 23,
   "id": "dbb1ce36-b7b6-4be8-aeb4-930a506c6263",
   "metadata": {},
   "outputs": [],
   "source": [
    "filename[\"NAFDACNumber\"] = filename[\"filename\"].str.extract(r\"([A-Z0-9]+-\\d+)\")"
   ]
  },
  {
   "cell_type": "code",
   "execution_count": 25,
   "id": "e1a85b7d-55ab-4318-8976-42fa59d21294",
   "metadata": {},
   "outputs": [
    {
     "name": "stdout",
     "output_type": "stream",
     "text": [
      "<class 'pandas.core.frame.DataFrame'>\n",
      "RangeIndex: 298 entries, 0 to 297\n",
      "Data columns (total 3 columns):\n",
      " #   Column        Non-Null Count  Dtype \n",
      "---  ------        --------------  ----- \n",
      " 0   S/N           298 non-null    int64 \n",
      " 1   filename      298 non-null    object\n",
      " 2   NAFDACNumber  298 non-null    object\n",
      "dtypes: int64(1), object(2)\n",
      "memory usage: 7.1+ KB\n"
     ]
    }
   ],
   "source": [
    "filename.info()"
   ]
  },
  {
   "cell_type": "code",
   "execution_count": 27,
   "id": "891efea4-3514-4341-9c09-a1fd39e93eac",
   "metadata": {},
   "outputs": [
    {
     "data": {
      "text/html": [
       "<div>\n",
       "<style scoped>\n",
       "    .dataframe tbody tr th:only-of-type {\n",
       "        vertical-align: middle;\n",
       "    }\n",
       "\n",
       "    .dataframe tbody tr th {\n",
       "        vertical-align: top;\n",
       "    }\n",
       "\n",
       "    .dataframe thead th {\n",
       "        text-align: right;\n",
       "    }\n",
       "</style>\n",
       "<table border=\"1\" class=\"dataframe\">\n",
       "  <thead>\n",
       "    <tr style=\"text-align: right;\">\n",
       "      <th></th>\n",
       "      <th>S/N</th>\n",
       "      <th>filename</th>\n",
       "      <th>NAFDACNumber</th>\n",
       "    </tr>\n",
       "  </thead>\n",
       "  <tbody>\n",
       "    <tr>\n",
       "      <th>0</th>\n",
       "      <td>1</td>\n",
       "      <td>C:\\Users\\adekunleadeniran\\nafdac\\lasa\\download...</td>\n",
       "      <td>A3-101325</td>\n",
       "    </tr>\n",
       "    <tr>\n",
       "      <th>1</th>\n",
       "      <td>2</td>\n",
       "      <td>C:\\Users\\adekunleadeniran\\nafdac\\lasa\\download...</td>\n",
       "      <td>A3-101328</td>\n",
       "    </tr>\n",
       "    <tr>\n",
       "      <th>2</th>\n",
       "      <td>3</td>\n",
       "      <td>C:\\Users\\adekunleadeniran\\nafdac\\lasa\\download...</td>\n",
       "      <td>A3-101329</td>\n",
       "    </tr>\n",
       "    <tr>\n",
       "      <th>3</th>\n",
       "      <td>4</td>\n",
       "      <td>C:\\Users\\adekunleadeniran\\nafdac\\lasa\\download...</td>\n",
       "      <td>A3-101338</td>\n",
       "    </tr>\n",
       "    <tr>\n",
       "      <th>4</th>\n",
       "      <td>5</td>\n",
       "      <td>C:\\Users\\adekunleadeniran\\nafdac\\lasa\\download...</td>\n",
       "      <td>A3-101345</td>\n",
       "    </tr>\n",
       "    <tr>\n",
       "      <th>...</th>\n",
       "      <td>...</td>\n",
       "      <td>...</td>\n",
       "      <td>...</td>\n",
       "    </tr>\n",
       "    <tr>\n",
       "      <th>293</th>\n",
       "      <td>294</td>\n",
       "      <td>C:\\Users\\adekunleadeniran\\nafdac\\lasa\\download...</td>\n",
       "      <td>A3-101252</td>\n",
       "    </tr>\n",
       "    <tr>\n",
       "      <th>294</th>\n",
       "      <td>295</td>\n",
       "      <td>C:\\Users\\adekunleadeniran\\nafdac\\lasa\\download...</td>\n",
       "      <td>A3-101262</td>\n",
       "    </tr>\n",
       "    <tr>\n",
       "      <th>295</th>\n",
       "      <td>296</td>\n",
       "      <td>C:\\Users\\adekunleadeniran\\nafdac\\lasa\\download...</td>\n",
       "      <td>A3-101283</td>\n",
       "    </tr>\n",
       "    <tr>\n",
       "      <th>296</th>\n",
       "      <td>297</td>\n",
       "      <td>C:\\Users\\adekunleadeniran\\nafdac\\lasa\\download...</td>\n",
       "      <td>A3-101320</td>\n",
       "    </tr>\n",
       "    <tr>\n",
       "      <th>297</th>\n",
       "      <td>298</td>\n",
       "      <td>C:\\Users\\adekunleadeniran\\nafdac\\lasa\\download...</td>\n",
       "      <td>A3-101321</td>\n",
       "    </tr>\n",
       "  </tbody>\n",
       "</table>\n",
       "<p>298 rows × 3 columns</p>\n",
       "</div>"
      ],
      "text/plain": [
       "     S/N                                           filename NAFDACNumber\n",
       "0      1  C:\\Users\\adekunleadeniran\\nafdac\\lasa\\download...    A3-101325\n",
       "1      2  C:\\Users\\adekunleadeniran\\nafdac\\lasa\\download...    A3-101328\n",
       "2      3  C:\\Users\\adekunleadeniran\\nafdac\\lasa\\download...    A3-101329\n",
       "3      4  C:\\Users\\adekunleadeniran\\nafdac\\lasa\\download...    A3-101338\n",
       "4      5  C:\\Users\\adekunleadeniran\\nafdac\\lasa\\download...    A3-101345\n",
       "..   ...                                                ...          ...\n",
       "293  294  C:\\Users\\adekunleadeniran\\nafdac\\lasa\\download...    A3-101252\n",
       "294  295  C:\\Users\\adekunleadeniran\\nafdac\\lasa\\download...    A3-101262\n",
       "295  296  C:\\Users\\adekunleadeniran\\nafdac\\lasa\\download...    A3-101283\n",
       "296  297  C:\\Users\\adekunleadeniran\\nafdac\\lasa\\download...    A3-101320\n",
       "297  298  C:\\Users\\adekunleadeniran\\nafdac\\lasa\\download...    A3-101321\n",
       "\n",
       "[298 rows x 3 columns]"
      ]
     },
     "execution_count": 27,
     "metadata": {},
     "output_type": "execute_result"
    }
   ],
   "source": [
    "filename"
   ]
  },
  {
   "cell_type": "code",
   "execution_count": 29,
   "id": "82349e8b-2981-4ed8-ad4e-a7b668713b76",
   "metadata": {},
   "outputs": [
    {
     "data": {
      "text/html": [
       "<div>\n",
       "<style scoped>\n",
       "    .dataframe tbody tr th:only-of-type {\n",
       "        vertical-align: middle;\n",
       "    }\n",
       "\n",
       "    .dataframe tbody tr th {\n",
       "        vertical-align: top;\n",
       "    }\n",
       "\n",
       "    .dataframe thead th {\n",
       "        text-align: right;\n",
       "    }\n",
       "</style>\n",
       "<table border=\"1\" class=\"dataframe\">\n",
       "  <thead>\n",
       "    <tr style=\"text-align: right;\">\n",
       "      <th></th>\n",
       "      <th>S/N</th>\n",
       "      <th>filename</th>\n",
       "      <th>NAFDACNumber</th>\n",
       "    </tr>\n",
       "  </thead>\n",
       "  <tbody>\n",
       "  </tbody>\n",
       "</table>\n",
       "</div>"
      ],
      "text/plain": [
       "Empty DataFrame\n",
       "Columns: [S/N, filename, NAFDACNumber]\n",
       "Index: []"
      ]
     },
     "execution_count": 29,
     "metadata": {},
     "output_type": "execute_result"
    }
   ],
   "source": [
    "filename.loc[filename['NAFDACNumber'].isnull()]"
   ]
  },
  {
   "cell_type": "code",
   "execution_count": 37,
   "id": "bf0a02b5-3e28-4752-993c-8e353783ddac",
   "metadata": {},
   "outputs": [],
   "source": [
    "filename.to_excel('cleanedimage.xlsx', index=False)"
   ]
  },
  {
   "cell_type": "code",
   "execution_count": 39,
   "id": "5af7ab34-58f5-4f9f-bec4-bb4f2bd89338",
   "metadata": {},
   "outputs": [
    {
     "name": "stdout",
     "output_type": "stream",
     "text": [
      "   S/N                                           filename NAFDACNumber  \\\n",
      "0    1  C:\\Users\\adekunleadeniran\\nafdac\\lasa\\download...    A3-101325   \n",
      "1    2  C:\\Users\\adekunleadeniran\\nafdac\\lasa\\download...    A3-101328   \n",
      "2    3  C:\\Users\\adekunleadeniran\\nafdac\\lasa\\download...    A3-101329   \n",
      "3    4  C:\\Users\\adekunleadeniran\\nafdac\\lasa\\download...    A3-101338   \n",
      "4    5  C:\\Users\\adekunleadeniran\\nafdac\\lasa\\download...    A3-101345   \n",
      "\n",
      "   ApplicationID                                   ProductBrandName  \\\n",
      "0         404235  Superfingers Non-Sterile Latex Examination Glo...   \n",
      "1         271299                     Aspee Surgicare Scalp Vein Set   \n",
      "2         271306                         Aspee Surgicare Iv Cannula   \n",
      "3         303348        Global Young Surgical Suture Chromic Catgut   \n",
      "4         388866                                      Ug Iv Cannula   \n",
      "\n",
      "                                         GenericName ProductCategory_Group  \\\n",
      "0  NON-STERILE LATEX EXAMINATION GLOVES, POWDER FREE       Medical Devices   \n",
      "1                                     SCALP VEIN SET       Medical Devices   \n",
      "2                                INTRAVENOUS CANNULA       Medical Devices   \n",
      "3                                    SURGICAL SUTURE       Medical Devices   \n",
      "4                                         iv cannula       Medical Devices   \n",
      "\n",
      "             TIN                            ProductFrontViewArtwork  \\\n",
      "0  21008239-0001  http://docs.napams.org/NapamsDocuments/NAFRC15...   \n",
      "1  24147391-0001  http://docs.napams.org/NapamsDocuments/NAF1896...   \n",
      "2  24147391-0001  http://docs.napams.org/NapamsDocuments/NAF1896...   \n",
      "3  15655631-0001  http://docs.napams.org/NapamsDocuments/NAFRC10...   \n",
      "4  17893051-0001  http://docs.napams.org/NapamsDocuments/NAF1207...   \n",
      "\n",
      "                             ProductWholeViewArtwork      local_path_front  \\\n",
      "0  http://docs.napams.org/NapamsDocuments/NAFRC15...  A3-101325_front.jpeg   \n",
      "1  http://docs.napams.org/NapamsDocuments/NAF1896...  A3-101328_front.jpeg   \n",
      "2  http://docs.napams.org/NapamsDocuments/NAF1896...  A3-101329_front.jpeg   \n",
      "3  http://docs.napams.org/NapamsDocuments/NAFRC10...  A3-101338_front.jpeg   \n",
      "4  http://docs.napams.org/NapamsDocuments/NAF1207...  A3-101345_front.jpeg   \n",
      "\n",
      "       local_path_whole  \n",
      "0  A3-101325_whole.jpeg  \n",
      "1  A3-101328_whole.jpeg  \n",
      "2  A3-101329_whole.jpeg  \n",
      "3  A3-101338_whole.jpeg  \n",
      "4  A3-101345_whole.jpeg  \n"
     ]
    }
   ],
   "source": [
    "import pandas as pd\n",
    "\n",
    "# Load the two Excel files\n",
    "download_df = pd.read_excel(\"medev_data.xlsx\")      # from Image Downloader Cleaner\n",
    "filename_df = pd.read_excel(\"cleanedimage.xlsx\")        # contains 'filename' and extracted 'NAFDACNumber'\n",
    "\n",
    "# Confirm the columns exist\n",
    "\n",
    "\n",
    "# Merge both datasets on NAFDACNumber\n",
    "merged_df = pd.merge(filename_df, download_df, on=\"NAFDACNumber\", how=\"left\")\n",
    "\n",
    "# Preview merged data\n",
    "print(merged_df.head())\n",
    "\n",
    "# Optionally save it\n",
    "merged_df.to_excel(\"merged_output.xlsx\", index=False)\n"
   ]
  },
  {
   "cell_type": "code",
   "execution_count": 45,
   "id": "6a97b606-803f-4c07-8506-61c19917cf44",
   "metadata": {},
   "outputs": [],
   "source": [
    "import pandas as pd\n",
    "import os\n",
    "\n",
    "# Load the merged files\n",
    "download_df = pd.read_excel(\"medev_data.xlsx\")     # Output from Image Downloader Cleaner\n",
    "filename_df = pd.read_excel(\"cleanedimage.xlsx\")       # With extracted NAFDACNumber\n",
    "\n",
    "# Merge both datasets on NAFDACNumber\n",
    "merged_df = pd.merge(filename_df, download_df, on=\"NAFDACNumber\", how=\"left\")\n",
    "\n",
    "# Reapply hyperlinks for the local_path columns\n",
    "output_dir = \"downloaded_images\"  # Same as in the original config\n",
    "for col in [\"local_path_front\", \"local_path_whole\"]:\n",
    "    if col in merged_df.columns:\n",
    "        merged_df[col] = merged_df[col].apply(\n",
    "            lambda x: f'=HYPERLINK(\"{os.path.join(output_dir, x)}\", \"{x}\")' if pd.notna(x) and x != \"DOWNLOAD_FAILED\" else x\n",
    "        )\n",
    "\n",
    "# Save with Excel formulas as clickable links\n",
    "merged_df.to_excel(\"merged_output.xlsx\", index=False)\n"
   ]
  },
  {
   "cell_type": "code",
   "execution_count": 49,
   "id": "9b88eb38-8023-48ff-9c4e-ea92b245c8a4",
   "metadata": {},
   "outputs": [],
   "source": [
    "import pandas as pd\n",
    "import os\n",
    "\n",
    "# Load your final DataFrame\n",
    "df = pd.read_excel(\"merged_output.xlsx\")  # or \"merged_output.xlsx\" if you've merged\n",
    "\n",
    "# Define image directory\n",
    "output_dir = \"downloaded_images\"\n",
    "\n",
    "# Create clickable hyperlinks in the NAFDACNumber column (pointing to JPEG files)\n",
    "df[\"NAFDACNumber\"] = df[\"NAFDACNumber\"].apply(\n",
    "    lambda x: f'=HYPERLINK(\"{os.path.join(output_dir, f\"{x}.jpeg\")}\", \"{x}.jpeg\")'\n",
    "    if pd.notna(x) else x\n",
    ")\n",
    "\n",
    "# Save the updated file with clickable NAFDAC numbers\n",
    "df.to_excel(\"nafdac_hyperlinked.xlsx\", index=False)\n"
   ]
  },
  {
   "cell_type": "code",
   "execution_count": null,
   "id": "4245df1f-9751-4141-8d7b-ffb59d0b1e63",
   "metadata": {},
   "outputs": [],
   "source": []
  }
 ],
 "metadata": {
  "kernelspec": {
   "display_name": "Python 3 (ipykernel)",
   "language": "python",
   "name": "python3"
  },
  "language_info": {
   "codemirror_mode": {
    "name": "ipython",
    "version": 3
   },
   "file_extension": ".py",
   "mimetype": "text/x-python",
   "name": "python",
   "nbconvert_exporter": "python",
   "pygments_lexer": "ipython3",
   "version": "3.12.3"
  }
 },
 "nbformat": 4,
 "nbformat_minor": 5
}
