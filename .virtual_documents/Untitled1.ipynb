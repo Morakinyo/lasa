import pandas as pd
import re


filename = pd.read_excel('cleanimage.xlsx')


filename.info()


filename["NAFDACNumber"] = filename["filename"].str.extract(r"([A-Z0-9]+-\d+)")


filename.info()


filename


filename.loc[filename['NAFDACNumber'].isnull()]


filename.to_excel('cleanedimage.xlsx', index=False)


import pandas as pd

# Load the two Excel files
download_df = pd.read_excel("medev_data.xlsx")      # from Image Downloader Cleaner
filename_df = pd.read_excel("cleanedimage.xlsx")        # contains 'filename' and extracted 'NAFDACNumber'

# Confirm the columns exist


# Merge both datasets on NAFDACNumber
merged_df = pd.merge(filename_df, download_df, on="NAFDACNumber", how="left")

# Preview merged data
print(merged_df.head())

# Optionally save it
merged_df.to_excel("merged_output.xlsx", index=False)



import pandas as pd
import os

# Load the merged files
download_df = pd.read_excel("medev_data.xlsx")     # Output from Image Downloader Cleaner
filename_df = pd.read_excel("cleanedimage.xlsx")       # With extracted NAFDACNumber

# Merge both datasets on NAFDACNumber
merged_df = pd.merge(filename_df, download_df, on="NAFDACNumber", how="left")

# Reapply hyperlinks for the local_path columns
output_dir = "downloaded_images"  # Same as in the original config
for col in ["local_path_front", "local_path_whole"]:
    if col in merged_df.columns:
        merged_df[col] = merged_df[col].apply(
            lambda x: f'=HYPERLINK("{os.path.join(output_dir, x)}", "{x}")' if pd.notna(x) and x != "DOWNLOAD_FAILED" else x
        )

# Save with Excel formulas as clickable links
merged_df.to_excel("merged_output.xlsx", index=False)



import pandas as pd
import os

# Load your final DataFrame
df = pd.read_excel("merged_output.xlsx")  # or "merged_output.xlsx" if you've merged

# Define image directory
output_dir = "downloaded_images"

# Create clickable hyperlinks in the NAFDACNumber column (pointing to JPEG files)
df["NAFDACNumber"] = df["NAFDACNumber"].apply(
    lambda x: f'=HYPERLINK("{os.path.join(output_dir, f"{x}.jpeg")}", "{x}.jpeg")'
    if pd.notna(x) else x
)

# Save the updated file with clickable NAFDAC numbers
df.to_excel("nafdac_hyperlinked.xlsx", index=False)




