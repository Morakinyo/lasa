import pandas as pd
import numpy as np


md = pd.read_excel('Medical Devices_Kunle.xlsx')


md


md.info()


pattern = r'\b(?:Jan|Feb|Mar|Apr|May|Jun|Jul|Aug|Sep|Oct|Nov|Dec)-\d{2}\b'


df_cleaned = df_cleaned[~df_cleaned['NAFDACNumber'].str.contains(pattern, regex=True, na=False)]


df_cleaned


pattern = r'^\d{8}-\d{4}$'


df_cleaned = df_cleaned[df_cleaned['TIN'].str.match(pattern, na=False)]


df_cleaned


df_cleaned = df_cleaned[~df_cleaned['ProductFrontViewArtwork'].isnull()]


df_cleaned


import pandas as pd
import re

def clean_dataframe(df, column_to_clean, required_pattern, date_like_pattern, required_non_null_columns):
    """
    Clean a DataFrame by:
    1. Removing rows where `column_to_clean` contains date-like strings (e.g., 'Mar-25', 'Apr-86').
    2. Removing rows where `column_to_clean` does NOT match the required pattern (e.g., '00904588-0001').
    3. Dropping rows with null values in required columns.
    
    Args:
        df (pd.DataFrame): The input DataFrame.
        column_to_clean (str): The column to check for unwanted patterns.
        required_pattern (str): The regex pattern that valid values should match
        date_like_pattern (str): The regex pattern to identify and exclude date-like values.
        required_non_null_columns (list of str): Columns that must not have null values.

    Returns:
        pd.DataFrame: A cleaned DataFrame.
    """
    # Step 1: Remove rows with date-like strings in column_to_clean
    df = df[~df[column_to_clean].str.contains(date_like_pattern, regex=True, na=False)]

    # Step 2: Keep only rows where column_to_clean matches the required pattern
    df = df[df[column_to_clean].str.match(required_pattern, na=False)]

    # Step 3: Drop rows with nulls in required columns
    df = df.dropna(subset=required_non_null_columns)

    return df



import pandas as pd

def clean_multframe(df, 
                    date_like_column=None,
                    date_like_pattern=None,
                    pattern_column=None,
                    required_pattern=None,
                    non_null_columns=None):
    """
    Cleans a DataFrame by:
    1. Removing rows with date-like strings in a specific column.
    2. Removing rows where another column does not match a required pattern.
    3. Removing rows with null values in specified columns.

    Parameters:
        df (pd.DataFrame): The input DataFrame.
        date_like_column (str): Name of column to check for date-like strings.
        date_like_pattern (str): Regex pattern to identify date-like strings
        pattern_column (str): Name of column to check for required pattern.
        required_pattern (str): Regex pattern the values in `pattern_column` must match.
        non_null_columns (list): List of column names that must not be null.

    Returns:
        pd.DataFrame: Cleaned DataFrame.
    """
    if date_like_column and date_like_pattern:
        df = df[~df[date_like_column].astype(str).str.contains(date_like_pattern, regex=True, na=False)]

    if pattern_column and required_pattern:
        df = df[df[pattern_column].astype(str).str.match(required_pattern, na=False)]

    if non_null_columns:
        df = df.dropna(subset=non_null_columns)

    return df




# Patterns
date_pattern = r'\b(?:Jan|Feb|Mar|Apr|May|Jun|Jul|Aug|Sep|Oct|Nov|Dec)-\d{2}\b'
tin_pattern = r'^\d{8}-\d{4}$'



cleaned_df = clean_multframe(
    md,
    date_like_column='NAFDACNumber',
    date_like_pattern=date_pattern,
    pattern_column='TIN',
    required_pattern=tin_pattern,
    non_null_columns=['NAFDACNumber', 'TIN', 'ProductFrontViewArtwork','ProductWholeViewArtwork']
)

cleaned_df



